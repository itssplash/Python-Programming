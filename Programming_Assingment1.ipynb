{
 "cells": [
  {
   "cell_type": "markdown",
   "id": "b59775b6",
   "metadata": {},
   "source": [
    "Write a Python program to print \"Hello Python\"?\n",
    "Write a Python program to do arithmetical operations addition and division.?\n",
    "Write a Python program to find the area of a triangle?\n",
    "Write a Python program to swap two variables?\n",
    "Write a Python program to generate a random number?\n"
   ]
  },
  {
   "cell_type": "markdown",
   "id": "aee84724",
   "metadata": {},
   "source": [
    "# Write a Python program to print \"Hello Python\"?\n"
   ]
  },
  {
   "cell_type": "code",
   "execution_count": 1,
   "id": "8fca182d",
   "metadata": {},
   "outputs": [
    {
     "name": "stdout",
     "output_type": "stream",
     "text": [
      "Hello Python\n"
     ]
    }
   ],
   "source": [
    "print('Hello Python')"
   ]
  },
  {
   "cell_type": "markdown",
   "id": "41d4f315",
   "metadata": {},
   "source": [
    "# Write a Python program to do arithmetical operations addition and division.?\n"
   ]
  },
  {
   "cell_type": "code",
   "execution_count": 2,
   "id": "71686ad3",
   "metadata": {},
   "outputs": [
    {
     "name": "stdout",
     "output_type": "stream",
     "text": [
      "Addition 30\n",
      "Division 0.5\n"
     ]
    }
   ],
   "source": [
    "a=10\n",
    "b=20\n",
    "\n",
    "print(\"Addition\",a+b)\n",
    "print(\"Division\",a/b)"
   ]
  },
  {
   "cell_type": "markdown",
   "id": "b9d1cf11",
   "metadata": {},
   "source": [
    "# Write a Python program to find the area of a triangle?\n"
   ]
  },
  {
   "cell_type": "code",
   "execution_count": 3,
   "id": "c29099d2",
   "metadata": {
    "scrolled": true
   },
   "outputs": [
    {
     "name": "stdout",
     "output_type": "stream",
     "text": [
      "Enter height of Traingle10\n",
      "Enter base of Triangle20\n",
      "100.0\n"
     ]
    }
   ],
   "source": [
    "height = int(input('Enter height of Traingle'))\n",
    "base = int(input('Enter base of Triangle'))\n",
    "\n",
    "area = (height*base)/2\n",
    "print(area)"
   ]
  },
  {
   "cell_type": "markdown",
   "id": "0a2af08d",
   "metadata": {},
   "source": [
    "# Write a Python program to swap two variables?\n"
   ]
  },
  {
   "cell_type": "code",
   "execution_count": 4,
   "id": "4f888883",
   "metadata": {
    "scrolled": true
   },
   "outputs": [
    {
     "name": "stdout",
     "output_type": "stream",
     "text": [
      "20\n",
      "10\n"
     ]
    }
   ],
   "source": [
    "a = 10\n",
    "b = 20\n",
    "\n",
    "temp = a;\n",
    "a = b;\n",
    "b = temp;\n",
    "\n",
    "print(a)\n",
    "print(b)"
   ]
  },
  {
   "cell_type": "markdown",
   "id": "28b4e762",
   "metadata": {},
   "source": [
    "# Write a Python program to generate a random number?\n"
   ]
  },
  {
   "cell_type": "code",
   "execution_count": 21,
   "id": "1b73231f",
   "metadata": {},
   "outputs": [
    {
     "name": "stdout",
     "output_type": "stream",
     "text": [
      "0.9505583093876083\n"
     ]
    },
    {
     "data": {
      "text/plain": [
       "5"
      ]
     },
     "execution_count": 21,
     "metadata": {},
     "output_type": "execute_result"
    }
   ],
   "source": [
    "import random\n",
    "print(random.random())\n",
    "int(random.randint(1,100))"
   ]
  },
  {
   "cell_type": "code",
   "execution_count": null,
   "id": "9636a09e",
   "metadata": {},
   "outputs": [],
   "source": []
  },
  {
   "cell_type": "code",
   "execution_count": null,
   "id": "2d649fb8",
   "metadata": {},
   "outputs": [],
   "source": []
  },
  {
   "cell_type": "code",
   "execution_count": null,
   "id": "6c2d03b7",
   "metadata": {},
   "outputs": [],
   "source": []
  }
 ],
 "metadata": {
  "kernelspec": {
   "display_name": "Python 3 (ipykernel)",
   "language": "python",
   "name": "python3"
  },
  "language_info": {
   "codemirror_mode": {
    "name": "ipython",
    "version": 3
   },
   "file_extension": ".py",
   "mimetype": "text/x-python",
   "name": "python",
   "nbconvert_exporter": "python",
   "pygments_lexer": "ipython3",
   "version": "3.9.7"
  }
 },
 "nbformat": 4,
 "nbformat_minor": 5
}
