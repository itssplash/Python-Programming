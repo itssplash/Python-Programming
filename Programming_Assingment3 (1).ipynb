{
 "cells": [
  {
   "cell_type": "markdown",
   "id": "aed37f90",
   "metadata": {},
   "source": [
    "Write a Python Program to Check if a Number is Positive, Negative or Zero?\n",
    "Write a Python Program to Check if a Number is Odd or Even?\n",
    "Write a Python Program to Check Leap Year?\n",
    "Write a Python Program to Check Prime Number?\n",
    "Write a Python Program to Print all Prime Numbers in an Interval of 1-10000?"
   ]
  },
  {
   "cell_type": "markdown",
   "id": "f44b777f",
   "metadata": {},
   "source": [
    "# Write a Python Program to Check if a Number is Positive, Negative or Zero?\n"
   ]
  },
  {
   "cell_type": "code",
   "execution_count": 3,
   "id": "17f4211e",
   "metadata": {},
   "outputs": [
    {
     "name": "stdout",
     "output_type": "stream",
     "text": [
      "Enter Number0\n",
      "Number is Zero\n"
     ]
    }
   ],
   "source": [
    "a = int(input('Enter Number'))\n",
    "\n",
    "if a>0:\n",
    "    print('Number is +ve')\n",
    "elif a==0:\n",
    "    print('Number is Zero')\n",
    "else:\n",
    "    print('Number is -ve')"
   ]
  },
  {
   "cell_type": "markdown",
   "id": "77a5b5ee",
   "metadata": {},
   "source": [
    "# Write a Python Program to Check if a Number is Odd or Even?\n"
   ]
  },
  {
   "cell_type": "code",
   "execution_count": 6,
   "id": "512cc623",
   "metadata": {},
   "outputs": [
    {
     "name": "stdout",
     "output_type": "stream",
     "text": [
      "Enter Number 100\n",
      "The number is EVEN\n"
     ]
    }
   ],
   "source": [
    "a = int(input('Enter Number '))\n",
    "\n",
    "if a%2 == 0:\n",
    "    print('The number is EVEN')\n",
    "else:\n",
    "    print('The Number is ODD')"
   ]
  },
  {
   "cell_type": "markdown",
   "id": "acf91684",
   "metadata": {},
   "source": [
    "# Write a Python Program to Check Leap Year?\n"
   ]
  },
  {
   "cell_type": "code",
   "execution_count": 20,
   "id": "c9db3cdc",
   "metadata": {},
   "outputs": [
    {
     "name": "stdout",
     "output_type": "stream",
     "text": [
      "Enter Number 2022\n",
      "This is not a leap Year\n"
     ]
    }
   ],
   "source": [
    "a = int(input('Enter Number '))\n",
    "\n",
    "if a%4 == 0 and a%100!=0 or a%400 ==0:\n",
    "    print('This is a leap year')\n",
    "else:\n",
    "    print('This is not a leap Year')"
   ]
  },
  {
   "cell_type": "code",
   "execution_count": 25,
   "id": "330553a7",
   "metadata": {},
   "outputs": [
    {
     "name": "stdout",
     "output_type": "stream",
     "text": [
      "Enter Year 2024\n",
      "This is a leap Year\n"
     ]
    }
   ],
   "source": [
    "def checkleap(y):\n",
    "    import calendar\n",
    "    return calendar.isleap(y)\n",
    "\n",
    "yy = checkleap(int(input('Enter Year ')))\n",
    "if yy == True:\n",
    "    print('This is a leap Year')\n",
    "else:\n",
    "    print('This is not a Leap Year')"
   ]
  },
  {
   "cell_type": "markdown",
   "id": "438b5afc",
   "metadata": {},
   "source": [
    "# Write a Python Program to Check Prime Number?\n"
   ]
  },
  {
   "cell_type": "code",
   "execution_count": 42,
   "id": "abee1f09",
   "metadata": {},
   "outputs": [
    {
     "name": "stdout",
     "output_type": "stream",
     "text": [
      "Enter Number 4\n",
      "Not a prime Number\n"
     ]
    }
   ],
   "source": [
    "a = int(input('Enter Number '))\n",
    "count = 0\n",
    "if a<=1:\n",
    "    count = -1\n",
    "    print('Not a prime Number')\n",
    "\n",
    "for i in range(2,a):\n",
    "    if a%i == 0:\n",
    "        count =1\n",
    "\n",
    "        \n",
    "if count == 0:\n",
    "    print('It is a prime Number')\n",
    "elif count>0:\n",
    "    print('Not a prime Number')"
   ]
  },
  {
   "cell_type": "markdown",
   "id": "c60f0b68",
   "metadata": {},
   "source": [
    "# Write a Python Program to Print all Prime Numbers in an Interval of 1-10000?"
   ]
  },
  {
   "cell_type": "code",
   "execution_count": 47,
   "id": "c6707de8",
   "metadata": {},
   "outputs": [
    {
     "name": "stdout",
     "output_type": "stream",
     "text": [
      "2 3 5 7 11 13 17 19 23 29 31 37 41 43 47 53 59 61 67 71 73 79 83 89 97 101 103 107 109 113 127 131 137 139 149 151 157 163 167 173 179 181 191 193 197 199 211 223 227 229 233 239 241 251 257 263 269 271 277 281 283 293 307 311 313 317 331 337 347 349 353 359 367 373 379 383 389 397 401 409 419 421 431 433 439 443 449 457 461 463 467 479 487 491 499 503 509 521 523 541 547 557 563 569 571 577 587 593 599 601 607 613 617 619 631 641 643 647 653 659 661 673 677 683 691 701 709 719 727 733 739 743 751 757 761 769 773 787 797 809 811 821 823 827 829 839 853 857 859 863 877 881 883 887 907 911 919 929 937 941 947 953 967 971 977 983 991 997 "
     ]
    }
   ],
   "source": [
    "r=1000 \n",
    "for a in range(2,r+1):  \n",
    "    k=0  \n",
    "    for i in range(2,a//2+1):  \n",
    "        if(a%i==0):  \n",
    "            k=k+1  \n",
    "    if(k<=0):  \n",
    "        print(a, end = \" \");  \n"
   ]
  },
  {
   "cell_type": "code",
   "execution_count": null,
   "id": "393bd3f1",
   "metadata": {},
   "outputs": [],
   "source": []
  }
 ],
 "metadata": {
  "kernelspec": {
   "display_name": "Python 3 (ipykernel)",
   "language": "python",
   "name": "python3"
  },
  "language_info": {
   "codemirror_mode": {
    "name": "ipython",
    "version": 3
   },
   "file_extension": ".py",
   "mimetype": "text/x-python",
   "name": "python",
   "nbconvert_exporter": "python",
   "pygments_lexer": "ipython3",
   "version": "3.9.7"
  }
 },
 "nbformat": 4,
 "nbformat_minor": 5
}
